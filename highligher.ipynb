{
 "cells": [
  {
   "cell_type": "code",
   "execution_count": 224,
   "metadata": {
    "scrolled": true
   },
   "outputs": [],
   "source": [
    "#!pip install newspaper3k\n",
    "#!pip install bert-extractive-summarizer\n",
    "#!pip install spacy\n",
    "#!pip install transformers==2.2.0\n",
    "#!pip install torch\n",
    "#!pip install pandas\n",
    "\n",
    "from nltk.tokenize import sent_tokenize\n",
    "from newspaper import Article\n",
    "from summarizer import Summarizer\n",
    "import pandas as pd"
   ]
  },
  {
   "cell_type": "code",
   "execution_count": 225,
   "metadata": {
    "scrolled": true
   },
   "outputs": [],
   "source": [
    "#!pip install --upgrade pip\n",
    "#!pip install --upgrade tensorflow==2.0.0-rc1"
   ]
  },
  {
   "cell_type": "code",
   "execution_count": 226,
   "metadata": {},
   "outputs": [],
   "source": [
    "#download and sparse the webpage\n",
    "\n",
    "url = \"https://www.channelnewsasia.com/news/world/covid-19-coronavirus-all-of-italy-to-be-placed-under-lockdown-12520536\"\n",
    "\n",
    "article = Article(url)\n",
    "article.download()\n",
    "article.parse()\n",
    "article.nlp()"
   ]
  },
  {
   "cell_type": "code",
   "execution_count": 386,
   "metadata": {
    "scrolled": true
   },
   "outputs": [
    {
     "name": "stdout",
     "output_type": "stream",
     "text": [
      "ROME: Prime Minister Giuseppe Conte on Monday (Mar 9) extended measures to tackle the new coronavirus across the whole country, telling people to \"stay at home\" and banning public gatherings as well as Serie A football matches.\n",
      "\n",
      "The unprecedented measures covering the entire Mediterranean nation of more than 60 million people came after Italy reported 97 more deaths that took its toll to 463, with confirmed cases at 9,172.\n",
      "\n",
      "\n",
      "\n",
      "Advertisement\n",
      "\n",
      "Advertisement\n",
      "\n",
      "Travel was restricted across the country, marriages and funerals were banned for more than three weeks under the quarantine and bars and restaurants were told to close at 6pm.\n",
      "\n",
      "The measures, in place until Apr 3, were announced in a decree signed by the prime minister on Monday night.\n",
      "\n",
      "Advertisement\n",
      "\n",
      "Advertisement\n",
      "\n",
      "Since COVID-19 first emerged in China late last year, Italy has become Europe's hardest-hit country and has seen a rapid rise in cases to more than 9,000, with more than 400 deaths so far.\n",
      "\n",
      "\"All forms of gatherings in public places or sites open to the public\" were banned, the decree said, while sporting events of all levels and disciplines were cancelled - stopping play in the top-flight Serie A football league.\n",
      "\n",
      "Under the new rules, travel is only allowed for the most urgent work or health reasons, but people will be able to return to their own homes from elsewhere.\n",
      "\n",
      "The measures extend a quarantine zone that Italy had imposed for its industrial northern heartland around the cities of Milan and Venice on Sunday.\n",
      "\n",
      "Schools and universities were all immediately closed and businesses were urged to give their employees leave.\n",
      "\n",
      "Bars and restaurants were only allowed to open between 6am and 6pm, the decree said, and only if a distance of at least a metre was possible between customers.\n",
      "\n",
      "Religious institutions will also stay open as long as people can keep the same distance from each other - but ceremonies such as marriages, baptisms and funerals are banned until Apr 3.\n",
      "\n",
      "Armed Italian Carabinieri police officers hold a road check point at the border between the quarantined provinces of Modena and Bologna on Mar 9, 2020 in Valsamoggia near Bologna, as Italy is battling the world's second-most deadly virus outbreak after China and has imposed a virtual lockdown on the north of the country. (Photo: Piero CRUCIATTI/AFP)\n",
      "\n",
      "SUPERMARKETS PACKED\n",
      "\n",
      "As of Monday night, an AFP count showed Italy had recorded more than half of the deaths reported outside China.\n",
      "\n",
      "Before signing the decree, Prime Minister Giuseppe Conte said in a dramatic evening television address that it could \"be summarised as follows: I stay at home\".\n",
      "\n",
      "\"Everyone must give up something to protect the health of citizens,\" he said.\n",
      "\n",
      "\"Today is our moment of responsibility. We cannot let our guard down.\"\n",
      "\n",
      "However, it was not immediately clear how all the new measures would be enforced.\n",
      "\n",
      "Trains and numerous flights continued to operate into and out of Milan on Monday despite the earlier set of restrictions for its Lombardy region.\n",
      "\n",
      "People who wish to go to another part of the country will be required to fill out a standardised form justifying their reasons for travel.\n",
      "\n",
      "The government decree said these forms, to be submitted to authorities at train stations and airports, as well as at major roads between cities, will work on an honour system and no proof of \"need\" will be required.\n",
      "\n",
      "Supermarkets open overnight in Rome and Naples were packed with residents stocking up on food as well as soap and disinfectant, Italian media reported.\n",
      "\n",
      "A man wearing a respiratory mask shops under the arcades of Piazza Vittorio Emanuele II in the Esquillino district of Rome, as Italy battles COVID-19. Tiziana FABI/AFP\n",
      "\n",
      "Images showed people waiting calmly in queues outside the shops in the middle of the night, despite the government decree assuring that supermarkets will still be regularly restocked and asking Italians not to \"go mad\" with panic buying.\n",
      "\n",
      "All ski resorts were out of action and cinemas, museums, nightclubs and similar venues must remain shut after being ordered to close their doors over the weekend, the decree said.\n",
      "\n",
      "Only sports competitions organised by international bodies will be allowed to go ahead - but without spectators.\n",
      "\n",
      "PRISON RIOTS\n",
      "\n",
      "Italian officials faced a further headache after prisoners fearful of infection protested or rioted in 23 jails across the country - leaving several dead.\n",
      "\n",
      "Some prisoners have been asking to be granted amnesty over the health crisis.\n",
      "\n",
      "The relatives of inmates clashe with police outside of Rebibbia Prison during a prisoners' revolt, after family visits were suspended due to fears over coronavirus contagion, in Rome, Italy March 9, 2020. REUTERS/Yara Nardi\n",
      "\n",
      "The relatives of inmates block a road during clashes with police outside of Rebibbia Prison as prisoners revolt after family visits were suspended due to fears over coronavirus contagion, in Rome, Italy March 9, 2020. REUTERS/Yara Nardi\n",
      "\n",
      "The government's first set of restrictions for Italy's north sent the stock market into a tailspin that saw the Milan exchange lose more than 11 per cent on the day.\n",
      "\n",
      "But the expansion of the northern restrictions to the rest of the country just a day later suggests the government is struggling to cope with the scale of the medical emergency.\n",
      "\n",
      "Italian health officials had warned on Saturday that the northern Lombardy region was starting to run out of hospital beds for its intensive care patients.\n",
      "\n",
      "The government also began to recall retired doctors as part of an effort to quickly bolster the health service with 20,000 staff.\n",
      "\n",
      "World Health Organization Director-General Tedros Adhanom Ghebreyesus welcomed Italy's tough measures, noting that just four countries - China, South Korea, Italy and Iran - accounted for 93 per cent of cases worldwide.\n",
      "\n",
      "\"Now that the virus has a foothold in so many countries, the threat of a pandemic has become very real.\"\n",
      "\n",
      "\"It would be the first pandemic that could be controlled,\" Tedros added. \"The bottom line is we are not at the mercy of the virus.\"\n",
      "\n",
      "Download our app or subscribe to our Telegram channel for the latest updates on the coronavirus outbreak: https://cna.asia/telegram\n"
     ]
    }
   ],
   "source": [
    "# article in string \n",
    "full = article.text"
   ]
  },
  {
   "cell_type": "code",
   "execution_count": 323,
   "metadata": {
    "scrolled": true
   },
   "outputs": [],
   "source": [
    "# create extractive summary from text using BERT\n",
    "orgi = full\n",
    "model = Summarizer() # can adjust parameters\n",
    "summa = model(orgi, min_length=60) # can adjust parameters\n",
    "#model(body2)"
   ]
  },
  {
   "cell_type": "code",
   "execution_count": null,
   "metadata": {},
   "outputs": [],
   "source": []
  },
  {
   "cell_type": "code",
   "execution_count": 325,
   "metadata": {},
   "outputs": [
    {
     "name": "stdout",
     "output_type": "stream",
     "text": [
      "Length of original article: 6141 words\n",
      "Length of summarised article: 1225 words\n"
     ]
    }
   ],
   "source": [
    "print(\"Length of original article: %d words\" %len(full))\n",
    "print(\"Length of summarised article: %d words\" %len(summa))"
   ]
  },
  {
   "cell_type": "code",
   "execution_count": 249,
   "metadata": {
    "scrolled": true
   },
   "outputs": [],
   "source": [
    "#tokenising sentences\n",
    "\n",
    "def cleanup(textbody):\n",
    "    \n",
    "    main_list =[]\n",
    "    for word in range(len(textbody)):\n",
    "        sentence = textbody[word].split(\"\\n\")\n",
    "        main_list.append(sentence)\n",
    "\n",
    "    main_list = [item for items in main_list for item in items] \n",
    "    textbody = main_list\n",
    "    return textbody\n"
   ]
  },
  {
   "cell_type": "code",
   "execution_count": 327,
   "metadata": {
    "scrolled": true
   },
   "outputs": [
    {
     "data": {
      "text/plain": [
       "['ROME: Prime Minister Giuseppe Conte on Monday (Mar 9) extended measures to tackle the new coronavirus across the whole country, telling people to \"stay at home\" and banning public gatherings as well as Serie A football matches.',\n",
       " 'The unprecedented measures covering the entire Mediterranean nation of more than 60 million people came after Italy reported 97 more deaths that took its toll to 463, with confirmed cases at 9,172.',\n",
       " 'Advertisement',\n",
       " '',\n",
       " 'Advertisement',\n",
       " '',\n",
       " 'Travel was restricted across the country, marriages and funerals were banned for more than three weeks under the quarantine and bars and restaurants were told to close at 6pm.',\n",
       " 'The measures, in place until Apr 3, were announced in a decree signed by the prime minister on Monday night.',\n",
       " 'Advertisement',\n",
       " '',\n",
       " 'Advertisement',\n",
       " '',\n",
       " \"Since COVID-19 first emerged in China late last year, Italy has become Europe's hardest-hit country and has seen a rapid rise in cases to more than 9,000, with more than 400 deaths so far.\",\n",
       " '\"All forms of gatherings in public places or sites open to the public\" were banned, the decree said, while sporting events of all levels and disciplines were cancelled - stopping play in the top-flight Serie A football league.',\n",
       " 'Under the new rules, travel is only allowed for the most urgent work or health reasons, but people will be able to return to their own homes from elsewhere.',\n",
       " 'The measures extend a quarantine zone that Italy had imposed for its industrial northern heartland around the cities of Milan and Venice on Sunday.',\n",
       " 'Schools and universities were all immediately closed and businesses were urged to give their employees leave.',\n",
       " 'Bars and restaurants were only allowed to open between 6am and 6pm, the decree said, and only if a distance of at least a metre was possible between customers.',\n",
       " 'Religious institutions will also stay open as long as people can keep the same distance from each other - but ceremonies such as marriages, baptisms and funerals are banned until Apr 3.',\n",
       " \"Armed Italian Carabinieri police officers hold a road check point at the border between the quarantined provinces of Modena and Bologna on Mar 9, 2020 in Valsamoggia near Bologna, as Italy is battling the world's second-most deadly virus outbreak after China and has imposed a virtual lockdown on the north of the country.\",\n",
       " '(Photo: Piero CRUCIATTI/AFP)',\n",
       " '',\n",
       " 'SUPERMARKETS PACKED',\n",
       " '',\n",
       " 'As of Monday night, an AFP count showed Italy had recorded more than half of the deaths reported outside China.',\n",
       " 'Before signing the decree, Prime Minister Giuseppe Conte said in a dramatic evening television address that it could \"be summarised as follows: I stay at home\".',\n",
       " '\"Everyone must give up something to protect the health of citizens,\" he said.',\n",
       " '\"Today is our moment of responsibility.',\n",
       " 'We cannot let our guard down.\"',\n",
       " 'However, it was not immediately clear how all the new measures would be enforced.',\n",
       " 'Trains and numerous flights continued to operate into and out of Milan on Monday despite the earlier set of restrictions for its Lombardy region.',\n",
       " 'People who wish to go to another part of the country will be required to fill out a standardised form justifying their reasons for travel.',\n",
       " 'The government decree said these forms, to be submitted to authorities at train stations and airports, as well as at major roads between cities, will work on an honour system and no proof of \"need\" will be required.',\n",
       " 'Supermarkets open overnight in Rome and Naples were packed with residents stocking up on food as well as soap and disinfectant, Italian media reported.',\n",
       " 'A man wearing a respiratory mask shops under the arcades of Piazza Vittorio Emanuele II in the Esquillino district of Rome, as Italy battles COVID-19.',\n",
       " 'Tiziana FABI/AFP',\n",
       " '',\n",
       " 'Images showed people waiting calmly in queues outside the shops in the middle of the night, despite the government decree assuring that supermarkets will still be regularly restocked and asking Italians not to \"go mad\" with panic buying.',\n",
       " 'All ski resorts were out of action and cinemas, museums, nightclubs and similar venues must remain shut after being ordered to close their doors over the weekend, the decree said.',\n",
       " 'Only sports competitions organised by international bodies will be allowed to go ahead - but without spectators.',\n",
       " 'PRISON RIOTS',\n",
       " '',\n",
       " 'Italian officials faced a further headache after prisoners fearful of infection protested or rioted in 23 jails across the country - leaving several dead.',\n",
       " 'Some prisoners have been asking to be granted amnesty over the health crisis.',\n",
       " \"The relatives of inmates clashe with police outside of Rebibbia Prison during a prisoners' revolt, after family visits were suspended due to fears over coronavirus contagion, in Rome, Italy March 9, 2020.\",\n",
       " 'REUTERS/Yara Nardi',\n",
       " '',\n",
       " 'The relatives of inmates block a road during clashes with police outside of Rebibbia Prison as prisoners revolt after family visits were suspended due to fears over coronavirus contagion, in Rome, Italy March 9, 2020.',\n",
       " 'REUTERS/Yara Nardi',\n",
       " '',\n",
       " \"The government's first set of restrictions for Italy's north sent the stock market into a tailspin that saw the Milan exchange lose more than 11 per cent on the day.\",\n",
       " 'But the expansion of the northern restrictions to the rest of the country just a day later suggests the government is struggling to cope with the scale of the medical emergency.',\n",
       " 'Italian health officials had warned on Saturday that the northern Lombardy region was starting to run out of hospital beds for its intensive care patients.',\n",
       " 'The government also began to recall retired doctors as part of an effort to quickly bolster the health service with 20,000 staff.',\n",
       " \"World Health Organization Director-General Tedros Adhanom Ghebreyesus welcomed Italy's tough measures, noting that just four countries - China, South Korea, Italy and Iran - accounted for 93 per cent of cases worldwide.\",\n",
       " '\"Now that the virus has a foothold in so many countries, the threat of a pandemic has become very real.\"',\n",
       " '\"It would be the first pandemic that could be controlled,\" Tedros added.',\n",
       " '\"The bottom line is we are not at the mercy of the virus.\"',\n",
       " 'Download our app or subscribe to our Telegram channel for the latest updates on the coronavirus outbreak: https://cna.asia/telegram']"
      ]
     },
     "execution_count": 327,
     "metadata": {},
     "output_type": "execute_result"
    }
   ],
   "source": [
    "# tokenise orginal text\n",
    "\n",
    "orgi = sent_tokenize(full)\n",
    "orgi = cleanup(orgi)\n",
    "orgi"
   ]
  },
  {
   "cell_type": "code",
   "execution_count": 254,
   "metadata": {
    "scrolled": true
   },
   "outputs": [
    {
     "data": {
      "text/plain": [
       "['ROME: Prime Minister Giuseppe Conte on Monday (Mar 9) extended measures to tackle the new coronavirus across the whole country, telling people to \"stay at home\" and banning public gatherings as well as Serie A football matches.',\n",
       " 'Schools and universities were all immediately closed and businesses were urged to give their employees leave.',\n",
       " '\"Everyone must give up something to protect the health of citizens,\" he said.',\n",
       " 'The government decree said these forms, to be submitted to authorities at train stations and airports, as well as at major roads between cities, will work on an honour system and no proof of \"need\" will be required.',\n",
       " 'Supermarkets open overnight in Rome and Naples were packed with residents stocking up on food as well as soap and disinfectant, Italian media reported.',\n",
       " 'Tiziana FABI/AFP',\n",
       " '',\n",
       " 'Images showed people waiting calmly in queues outside the shops in the middle of the night, despite the government decree assuring that supermarkets will still be regularly restocked and asking Italians not to \"go mad\" with panic buying.',\n",
       " 'REUTERS/Yara Nardi',\n",
       " '',\n",
       " \"The government's first set of restrictions for Italy's north sent the stock market into a tailspin that saw the Milan exchange lose more than 11 per cent on the day.\"]"
      ]
     },
     "execution_count": 254,
     "metadata": {},
     "output_type": "execute_result"
    }
   ],
   "source": [
    "# tokenise summary text\n",
    "summ = sent_tokenize(summa)\n",
    "summ = cleanup(summ)\n",
    "summ"
   ]
  },
  {
   "cell_type": "code",
   "execution_count": 388,
   "metadata": {},
   "outputs": [
    {
     "name": "stdout",
     "output_type": "stream",
     "text": [
      "No of sentences in original article: 59 \n",
      "No of sentences in summarised article: 11 \n"
     ]
    }
   ],
   "source": [
    "# length of su\n",
    "\n",
    "orgiD= orgi\n",
    "summD= summ\n",
    "print(\"No of sentences in original article: %d \" %len(orgiD))\n",
    "print(\"No of sentences in summarised article: %d \" %len(summD))\n"
   ]
  },
  {
   "cell_type": "code",
   "execution_count": 395,
   "metadata": {
    "scrolled": true
   },
   "outputs": [
    {
     "name": "stdout",
     "output_type": "stream",
     "text": [
      "Does it make sense: True\n",
      "Highlighted text is called - full_list\n"
     ]
    }
   ],
   "source": [
    "# highlighting tool for summaried sentenses that are in original article\n",
    "  \n",
    "def list_contains(List1, List2): \n",
    "    check = False\n",
    "    global full_list\n",
    "    full_list=[]\n",
    "    \n",
    "  \n",
    "    # Iterate in the 1st list \n",
    "    for m in List1: \n",
    "        full_list.append(m)\n",
    "        #print(m+\"_NO\")\n",
    "  \n",
    "        # Iterate in the 2nd list \n",
    "        for n in List2: \n",
    "    \n",
    "            # if there is a match\n",
    "            if m == n: \n",
    "                check = True\n",
    "                full_list.pop()\n",
    "                full_list.append(\"<hl>\"+ m + \"<hl>\") \n",
    "                #print(m+\"_YES\") \n",
    "        \n",
    "        \n",
    "            \n",
    "       # print(m+\"_NO\")\n",
    "\n",
    "                  \n",
    "    return check\n",
    "      \n",
    "\n",
    "\n",
    "List1 = orgiD \n",
    "List2 = summD\n",
    "print(\"Does it make sense:\", list_contains(List1, List2))\n",
    "print(\"Highlighted text is called - full_list\")"
   ]
  },
  {
   "cell_type": "code",
   "execution_count": 398,
   "metadata": {
    "scrolled": true
   },
   "outputs": [
    {
     "data": {
      "text/plain": [
       "['<hl>ROME: Prime Minister Giuseppe Conte on Monday (Mar 9) extended measures to tackle the new coronavirus across the whole country, telling people to \"stay at home\" and banning public gatherings as well as Serie A football matches.<hl>',\n",
       " 'The unprecedented measures covering the entire Mediterranean nation of more than 60 million people came after Italy reported 97 more deaths that took its toll to 463, with confirmed cases at 9,172.',\n",
       " 'Advertisement',\n",
       " '<hl><hl>',\n",
       " 'Advertisement',\n",
       " '<hl><hl>',\n",
       " 'Travel was restricted across the country, marriages and funerals were banned for more than three weeks under the quarantine and bars and restaurants were told to close at 6pm.',\n",
       " 'The measures, in place until Apr 3, were announced in a decree signed by the prime minister on Monday night.',\n",
       " 'Advertisement',\n",
       " '<hl><hl>',\n",
       " 'Advertisement',\n",
       " '<hl><hl>',\n",
       " \"Since COVID-19 first emerged in China late last year, Italy has become Europe's hardest-hit country and has seen a rapid rise in cases to more than 9,000, with more than 400 deaths so far.\",\n",
       " '\"All forms of gatherings in public places or sites open to the public\" were banned, the decree said, while sporting events of all levels and disciplines were cancelled - stopping play in the top-flight Serie A football league.',\n",
       " 'Under the new rules, travel is only allowed for the most urgent work or health reasons, but people will be able to return to their own homes from elsewhere.',\n",
       " 'The measures extend a quarantine zone that Italy had imposed for its industrial northern heartland around the cities of Milan and Venice on Sunday.',\n",
       " '<hl>Schools and universities were all immediately closed and businesses were urged to give their employees leave.<hl>',\n",
       " 'Bars and restaurants were only allowed to open between 6am and 6pm, the decree said, and only if a distance of at least a metre was possible between customers.',\n",
       " 'Religious institutions will also stay open as long as people can keep the same distance from each other - but ceremonies such as marriages, baptisms and funerals are banned until Apr 3.',\n",
       " \"Armed Italian Carabinieri police officers hold a road check point at the border between the quarantined provinces of Modena and Bologna on Mar 9, 2020 in Valsamoggia near Bologna, as Italy is battling the world's second-most deadly virus outbreak after China and has imposed a virtual lockdown on the north of the country.\",\n",
       " '(Photo: Piero CRUCIATTI/AFP)',\n",
       " '<hl><hl>',\n",
       " 'SUPERMARKETS PACKED',\n",
       " '<hl><hl>',\n",
       " 'As of Monday night, an AFP count showed Italy had recorded more than half of the deaths reported outside China.',\n",
       " 'Before signing the decree, Prime Minister Giuseppe Conte said in a dramatic evening television address that it could \"be summarised as follows: I stay at home\".',\n",
       " '<hl>\"Everyone must give up something to protect the health of citizens,\" he said.<hl>',\n",
       " '\"Today is our moment of responsibility.',\n",
       " 'We cannot let our guard down.\"',\n",
       " 'However, it was not immediately clear how all the new measures would be enforced.',\n",
       " 'Trains and numerous flights continued to operate into and out of Milan on Monday despite the earlier set of restrictions for its Lombardy region.',\n",
       " 'People who wish to go to another part of the country will be required to fill out a standardised form justifying their reasons for travel.',\n",
       " '<hl>The government decree said these forms, to be submitted to authorities at train stations and airports, as well as at major roads between cities, will work on an honour system and no proof of \"need\" will be required.<hl>',\n",
       " '<hl>Supermarkets open overnight in Rome and Naples were packed with residents stocking up on food as well as soap and disinfectant, Italian media reported.<hl>',\n",
       " 'A man wearing a respiratory mask shops under the arcades of Piazza Vittorio Emanuele II in the Esquillino district of Rome, as Italy battles COVID-19.',\n",
       " '<hl>Tiziana FABI/AFP<hl>',\n",
       " '<hl><hl>',\n",
       " '<hl>Images showed people waiting calmly in queues outside the shops in the middle of the night, despite the government decree assuring that supermarkets will still be regularly restocked and asking Italians not to \"go mad\" with panic buying.<hl>',\n",
       " 'All ski resorts were out of action and cinemas, museums, nightclubs and similar venues must remain shut after being ordered to close their doors over the weekend, the decree said.',\n",
       " 'Only sports competitions organised by international bodies will be allowed to go ahead - but without spectators.',\n",
       " 'PRISON RIOTS',\n",
       " '<hl><hl>',\n",
       " 'Italian officials faced a further headache after prisoners fearful of infection protested or rioted in 23 jails across the country - leaving several dead.',\n",
       " 'Some prisoners have been asking to be granted amnesty over the health crisis.',\n",
       " \"The relatives of inmates clashe with police outside of Rebibbia Prison during a prisoners' revolt, after family visits were suspended due to fears over coronavirus contagion, in Rome, Italy March 9, 2020.\",\n",
       " '<hl>REUTERS/Yara Nardi<hl>',\n",
       " '<hl><hl>',\n",
       " 'The relatives of inmates block a road during clashes with police outside of Rebibbia Prison as prisoners revolt after family visits were suspended due to fears over coronavirus contagion, in Rome, Italy March 9, 2020.',\n",
       " '<hl>REUTERS/Yara Nardi<hl>',\n",
       " '<hl><hl>',\n",
       " \"<hl>The government's first set of restrictions for Italy's north sent the stock market into a tailspin that saw the Milan exchange lose more than 11 per cent on the day.<hl>\",\n",
       " 'But the expansion of the northern restrictions to the rest of the country just a day later suggests the government is struggling to cope with the scale of the medical emergency.',\n",
       " 'Italian health officials had warned on Saturday that the northern Lombardy region was starting to run out of hospital beds for its intensive care patients.',\n",
       " 'The government also began to recall retired doctors as part of an effort to quickly bolster the health service with 20,000 staff.',\n",
       " \"World Health Organization Director-General Tedros Adhanom Ghebreyesus welcomed Italy's tough measures, noting that just four countries - China, South Korea, Italy and Iran - accounted for 93 per cent of cases worldwide.\",\n",
       " '\"Now that the virus has a foothold in so many countries, the threat of a pandemic has become very real.\"',\n",
       " '\"It would be the first pandemic that could be controlled,\" Tedros added.',\n",
       " '\"The bottom line is we are not at the mercy of the virus.\"',\n",
       " 'Download our app or subscribe to our Telegram channel for the latest updates on the coronavirus outbreak: https://cna.asia/telegram']"
      ]
     },
     "execution_count": 398,
     "metadata": {},
     "output_type": "execute_result"
    }
   ],
   "source": [
    "full_list"
   ]
  },
  {
   "cell_type": "code",
   "execution_count": null,
   "metadata": {
    "scrolled": true
   },
   "outputs": [],
   "source": []
  },
  {
   "cell_type": "code",
   "execution_count": 359,
   "metadata": {
    "scrolled": true
   },
   "outputs": [
    {
     "name": "stdout",
     "output_type": "stream",
     "text": [
      "a_NO\n",
      "e_NO\n",
      "i_NO\n",
      "o_NO\n",
      "u_NO\n",
      "Test Case#1  False\n",
      "a_NO\n",
      "a_YES\n",
      "e_NO\n",
      "e_YES\n",
      "i_NO\n",
      "o_NO\n",
      "u_NO\n",
      "Test Case#2  True\n"
     ]
    }
   ],
   "source": [
    "# # Program to check if a Python list contains elements of another list\n",
    "  \n",
    "# def list_contains(List1, List2): \n",
    "#     check = False\n",
    "  \n",
    "#     # Iterate in the 1st list \n",
    "#     for m in List1: \n",
    "#         print(m+\"_NO\")\n",
    "  \n",
    "#         # Iterate in the 2nd list \n",
    "#         for n in List2: \n",
    "    \n",
    "#             # if there is a match\n",
    "#             if m == n: \n",
    "#                 check = True\n",
    "#                 print(m+\"_YES\")\n",
    "                \n",
    "                \n",
    "                \n",
    "#                 #return check \n",
    "        \n",
    "        \n",
    "            \n",
    "#        # print(m+\"_NO\")\n",
    "\n",
    "                  \n",
    "#     return check \n",
    "      \n",
    "# # Test Case 1\n",
    "# List1 = ['a', 'e', 'i', 'o', 'u'] \n",
    "# List2 = ['x', 'y', 'z', 'l', 'm'] \n",
    "# print(\"Test Case#1 \", list_contains(List1, List2)) \n",
    "\n",
    "# # Test Case 2  \n",
    "# List1 = ['a', 'e', 'i', 'o', 'u']  \n",
    "# List2 = ['c', 'f', 'e', 'd', 'a']  \n",
    "# print(\"Test Case#2 \", list_contains(List1, List2)) "
   ]
  }
 ],
 "metadata": {
  "kernelspec": {
   "display_name": "Python 3",
   "language": "python",
   "name": "python3"
  },
  "language_info": {
   "codemirror_mode": {
    "name": "ipython",
    "version": 3
   },
   "file_extension": ".py",
   "mimetype": "text/x-python",
   "name": "python",
   "nbconvert_exporter": "python",
   "pygments_lexer": "ipython3",
   "version": "3.6.10"
  }
 },
 "nbformat": 4,
 "nbformat_minor": 4
}
